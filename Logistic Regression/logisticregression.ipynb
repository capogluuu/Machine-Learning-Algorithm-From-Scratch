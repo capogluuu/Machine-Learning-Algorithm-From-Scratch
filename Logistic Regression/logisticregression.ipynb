{
 "cells": [
  {
   "cell_type": "code",
   "execution_count": 32,
   "metadata": {},
   "outputs": [
    {
     "name": "stdout",
     "output_type": "stream",
     "text": [
      "68.0\n"
     ]
    }
   ],
   "source": [

    "import pandas as pd\n",
    "import numpy as np \n",
    "\n",
    "class logitregression():\n",
    "    def __init__ (self, learning_rate = 0.001, epoch = 5, control_level = 0.50):\n",
    "        self.learning_rate = learning_rate\n",
    "        self.epoch         = epoch\n",
    "        self.control_level = control_level \n",
    "    def fit(self, X ,y):\n",
    "        \n",
    "        sample , features = X.shape\n",
    "        self.w            = np.zeros((1,features))\n",
    "        self.b            = np.zeros((1))\n",
    "        \n",
    "        for _ in range(self.epoch):\n",
    "            \n",
    "            y_hat     = 1/ 1 + np.exp( - np.dot(X,self.w.T)+self.b ) \n",
    "            lost_score= (-1) * np.mean( y * np.log(y_hat) + (1-y) * (1-y_hat))  \n",
    "            w1_derive =  np.mean(np.dot((y_hat - y).T, X[\"Age\"]))\n",
    "            w2_derive =  np.mean(np.dot((y_hat - y).T, X[\"EstimatedSalary\"]))\n",
    "            \n",
    "            self.w[0,0] = self.w[0,0] - self.learning_rate * w1_derive \n",
    "            self.w[0,1] = self.w[0,1] - self.learning_rate * w2_derive\n",
    "         \n",
    "    def predict( self, X ):\n",
    "        Z = 1 / (1 + np.exp(-(np.dot(X,self.w.T)+self.b)))         \n",
    "        Y = np.where( Z > self.control_level, 1, 0 )       \n",
    "        return Y \n",
    "  \n",
    "def main():\n",
    "    df =  pd.read_csv(\"training.csv\")\n",
    "    del df[\"User ID\"]\n",
    "    del df[\"Gender\"]\n",
    "    #min-max scaling\n",
    "    df[\"Age\"]             = (lambda x:( x - min(x) )/( max(x) - min(x) )) (df[\"Age\"]) \n",
    "    df[\"EstimatedSalary\"] = (lambda x:( x - min(x) )/( max(x) - min(x) )) (df[\"EstimatedSalary\"]) \n",
    "    \n",
    "    train_y_columns  = ['Purchased']\n",
    "    train_x_columns = ['Age','EstimatedSalary']\n",
    "    X , y         = df[train_x_columns], df[test_y_columns]\n",
    "    \n",
    "    #model fitting\n",
    "    model         = logitregression()\n",
    "    model.fit(X,y)\n",
    "    \n",
    "    #determination test data   \n",
    "    test = df.sample(n=100, random_state=0)\n",
    "    \n",
    "    #determination control dataset \n",
    "    control  = test[\"Purchased\"].values\n",
    "    del test[\"Purchased\"]\n",
    "    \n",
    "    #predict \n",
    "    result = model.predict(test)\n",
    "    \n",
    "    #measure the predict result\n",
    "    count = 0 \n",
    "    for i in range(len(result)):\n",
    "        if(result[i] == control[i]):\n",
    "            count+=1      \n",
    "\n",
    "    print((float(count)/float(len(result)))*100)\n",
    "    \n",
    "\n",
    "if __name__ == \"__main__\":\n",
    "    main()"
   ]
  },
  {
   "cell_type": "code",
   "execution_count": null,
   "metadata": {},
   "outputs": [],
   "source": []
  }
 ],
 "metadata": {
  "kernelspec": {
   "display_name": "Python 3",
   "language": "python",
   "name": "python3"
  },
  "language_info": {
   "codemirror_mode": {
    "name": "ipython",
    "version": 3
   },
   "file_extension": ".py",
   "mimetype": "text/x-python",
   "name": "python",
   "nbconvert_exporter": "python",
   "pygments_lexer": "ipython3",
   "version": "3.7.4"
  }
 },
 "nbformat": 4,
 "nbformat_minor": 2
}
